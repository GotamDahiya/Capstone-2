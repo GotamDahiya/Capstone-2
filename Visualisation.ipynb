{
 "cells": [
  {
   "cell_type": "code",
   "execution_count": 1,
   "metadata": {
    "execution": {
     "iopub.execute_input": "2021-06-01T12:25:09.446140Z",
     "iopub.status.busy": "2021-06-01T12:25:09.445380Z",
     "iopub.status.idle": "2021-06-01T12:25:10.613617Z",
     "shell.execute_reply": "2021-06-01T12:25:10.613045Z",
     "shell.execute_reply.started": "2021-06-01T12:25:09.446065Z"
    }
   },
   "outputs": [],
   "source": [
    "import pandas as pd\n",
    "import numpy as np\n",
    "import matplotlib.pyplot as plt\n",
    "import seaborn as sns"
   ]
  },
  {
   "cell_type": "code",
   "execution_count": 2,
   "metadata": {
    "execution": {
     "iopub.execute_input": "2021-06-01T12:25:20.885964Z",
     "iopub.status.busy": "2021-06-01T12:25:20.885608Z",
     "iopub.status.idle": "2021-06-01T12:25:20.946328Z",
     "shell.execute_reply": "2021-06-01T12:25:20.945837Z",
     "shell.execute_reply.started": "2021-06-01T12:25:20.885933Z"
    }
   },
   "outputs": [
    {
     "data": {
      "text/html": [
       "<div>\n",
       "<style scoped>\n",
       "    .dataframe tbody tr th:only-of-type {\n",
       "        vertical-align: middle;\n",
       "    }\n",
       "\n",
       "    .dataframe tbody tr th {\n",
       "        vertical-align: top;\n",
       "    }\n",
       "\n",
       "    .dataframe thead th {\n",
       "        text-align: right;\n",
       "    }\n",
       "</style>\n",
       "<table border=\"1\" class=\"dataframe\">\n",
       "  <thead>\n",
       "    <tr style=\"text-align: right;\">\n",
       "      <th></th>\n",
       "      <th>Clean Tweet</th>\n",
       "      <th>Sentiment</th>\n",
       "    </tr>\n",
       "  </thead>\n",
       "  <tbody>\n",
       "    <tr>\n",
       "      <th>42534</th>\n",
       "      <td>bc its pretty much a Room</td>\n",
       "      <td>0.2250</td>\n",
       "    </tr>\n",
       "    <tr>\n",
       "      <th>22701</th>\n",
       "      <td>I m aware it wasnt London but not one arrest f...</td>\n",
       "      <td>0.0375</td>\n",
       "    </tr>\n",
       "    <tr>\n",
       "      <th>1826</th>\n",
       "      <td>m I get that they must be present to their chi...</td>\n",
       "      <td>0.0000</td>\n",
       "    </tr>\n",
       "    <tr>\n",
       "      <th>19594</th>\n",
       "      <td>hays RIVATurns TwentyThree</td>\n",
       "      <td>0.0000</td>\n",
       "    </tr>\n",
       "    <tr>\n",
       "      <th>35463</th>\n",
       "      <td>That looks the best on you Woozi AAAA WONHOON 17</td>\n",
       "      <td>1.0000</td>\n",
       "    </tr>\n",
       "    <tr>\n",
       "      <th>5373</th>\n",
       "      <td>He thrust every elf Far back on the shelf</td>\n",
       "      <td>0.0500</td>\n",
       "    </tr>\n",
       "    <tr>\n",
       "      <th>33156</th>\n",
       "      <td>Go my profile and vote</td>\n",
       "      <td>0.0000</td>\n",
       "    </tr>\n",
       "    <tr>\n",
       "      <th>26180</th>\n",
       "      <td>This project in long term would Cherish the fr...</td>\n",
       "      <td>-0.0500</td>\n",
       "    </tr>\n",
       "    <tr>\n",
       "      <th>42486</th>\n",
       "      <td>Also my go to car temperature</td>\n",
       "      <td>0.0000</td>\n",
       "    </tr>\n",
       "    <tr>\n",
       "      <th>6111</th>\n",
       "      <td>fuck wrong picture</td>\n",
       "      <td>-0.4500</td>\n",
       "    </tr>\n",
       "  </tbody>\n",
       "</table>\n",
       "</div>"
      ],
      "text/plain": [
       "                                             Clean Tweet  Sentiment\n",
       "42534                          bc its pretty much a Room     0.2250\n",
       "22701  I m aware it wasnt London but not one arrest f...     0.0375\n",
       "1826   m I get that they must be present to their chi...     0.0000\n",
       "19594                         hays RIVATurns TwentyThree     0.0000\n",
       "35463   That looks the best on you Woozi AAAA WONHOON 17     1.0000\n",
       "5373           He thrust every elf Far back on the shelf     0.0500\n",
       "33156                             Go my profile and vote     0.0000\n",
       "26180  This project in long term would Cherish the fr...    -0.0500\n",
       "42486                      Also my go to car temperature     0.0000\n",
       "6111                                  fuck wrong picture    -0.4500"
      ]
     },
     "execution_count": 2,
     "metadata": {},
     "output_type": "execute_result"
    }
   ],
   "source": [
    "tweets_df = pd.read_csv(\"Tweets.csv\")\n",
    "tweets_df.sample(10)"
   ]
  },
  {
   "cell_type": "code",
   "execution_count": 3,
   "metadata": {
    "execution": {
     "iopub.execute_input": "2021-06-01T12:25:22.246002Z",
     "iopub.status.busy": "2021-06-01T12:25:22.245715Z",
     "iopub.status.idle": "2021-06-01T12:25:22.596510Z",
     "shell.execute_reply": "2021-06-01T12:25:22.595970Z",
     "shell.execute_reply.started": "2021-06-01T12:25:22.245976Z"
    }
   },
   "outputs": [
    {
     "data": {
      "image/png": "[encoded data removed]",
      "text/plain": [
       "<Figure size 432x288 with 1 Axes>"
      ]
     },
     "metadata": {
      "needs_background": "light"
     },
     "output_type": "display_data"
    }
   ],
   "source": [
    "sns.histplot(tweets_df['Sentiment']);"
   ]
  },
  {
   "cell_type": "code",
   "execution_count": 4,
   "metadata": {
    "execution": {
     "iopub.execute_input": "2021-06-01T12:25:26.301003Z",
     "iopub.status.busy": "2021-06-01T12:25:26.300520Z",
     "iopub.status.idle": "2021-06-01T12:25:26.315796Z",
     "shell.execute_reply": "2021-06-01T12:25:26.315151Z",
     "shell.execute_reply.started": "2021-06-01T12:25:26.300959Z"
    }
   },
   "outputs": [
    {
     "name": "stdout",
     "output_type": "stream",
     "text": [
      "<class 'pandas.core.frame.DataFrame'>\n",
      "RangeIndex: 43678 entries, 0 to 43677\n",
      "Data columns (total 2 columns):\n",
      " #   Column       Non-Null Count  Dtype  \n",
      "---  ------       --------------  -----  \n",
      " 0   Clean Tweet  43678 non-null  object \n",
      " 1   Sentiment    43678 non-null  float64\n",
      "dtypes: float64(1), object(1)\n",
      "memory usage: 682.6+ KB\n"
     ]
    }
   ],
   "source": [
    "tweets_df.info()"
   ]
  },
  {
   "cell_type": "code",
   "execution_count": 11,
   "metadata": {
    "execution": {
     "iopub.execute_input": "2021-06-01T12:26:27.805891Z",
     "iopub.status.busy": "2021-06-01T12:26:27.805026Z",
     "iopub.status.idle": "2021-06-01T12:26:27.830114Z",
     "shell.execute_reply": "2021-06-01T12:26:27.828515Z",
     "shell.execute_reply.started": "2021-06-01T12:26:27.805814Z"
    }
   },
   "outputs": [
    {
     "data": {
      "text/plain": [
       "Clean Tweet    6764\n",
       "Sentiment      6764\n",
       "dtype: int64"
      ]
     },
     "execution_count": 11,
     "metadata": {},
     "output_type": "execute_result"
    }
   ],
   "source": [
    "tweets_df[tweets_df['Sentiment'] < 0.0].count()"
   ]
  },
  {
   "cell_type": "markdown",
   "metadata": {},
   "source": [
    "The data is skewed away from the negative polarity side."
   ]
  }
 ],
 "metadata": {
  "kernelspec": {
   "display_name": "SpringBoard",
   "language": "python",
   "name": "springboard"
  },
  "language_info": {
   "codemirror_mode": {
    "name": "ipython",
    "version": 3
   },
   "file_extension": ".py",
   "mimetype": "text/x-python",
   "name": "python",
   "nbconvert_exporter": "python",
   "pygments_lexer": "ipython3",
   "version": "3.8.5"
  }
 },
 "nbformat": 4,
 "nbformat_minor": 4
}
